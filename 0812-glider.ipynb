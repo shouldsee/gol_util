{
 "cells": [
  {
   "cell_type": "code",
   "execution_count": 7,
   "metadata": {},
   "outputs": [],
   "source": [
    "import numpy as np\n",
    "\n",
    "import pymisca.ext as pyext\n",
    "\n",
    "\n",
    "import abc\n",
    "class space__base(object):\n",
    "    __metaclass__ = abc.ABCMeta\n",
    "    @classmethod\n",
    "    @abc.abstractmethod\n",
    "    def get__neighbours(cls,x,targetAxis=None):\n",
    "        assert 0\n",
    "        return\n",
    "\n",
    "class space__shifted(space__base):\n",
    "\n",
    "#     pass\n",
    "    shifters = [\n",
    "        [(1,1,),(0,1)],\n",
    "        [(1,-1),(0,1)],\n",
    "        [(-1,1),(0,1)],\n",
    "        [(-1,-1),(0,1)],\n",
    "    ]\n",
    "    \n",
    "    @classmethod\n",
    "    def get__neighbours(cls,x,targetAxis = (0,1),):\n",
    "        '''\n",
    "        return a list of neighbor\n",
    "        '''\n",
    "        lst = []\n",
    "        for (shift,axis) in getattr(cls,\"shifters\"):\n",
    "            axis = map(targetAxis.__getitem__, axis) \n",
    "            lst += [np.roll(x,shift,axis=axis)]\n",
    "        return lst\n",
    "    \n",
    "    \n",
    "# class dyn__lookup(object):\n",
    "class dyn__lookup__bs(object):\n",
    "    def __init__(self,table=None):\n",
    "        if table is None:\n",
    "\n",
    "            table = np.array([\n",
    "                    [0,0,0,1,0,0,0,0,0,],\n",
    "                    [0,0,1,1,0,0,0,0,0,],\n",
    "                ])\n",
    "        self.table = np.array(table)\n",
    "#     @classmethod\n",
    "    def forward(cls,x,xlst,targetAxis=(0,1),\n",
    "                updater = None,\n",
    "#                 updater=[slice(None,None)]\n",
    "               ):\n",
    "        \n",
    "        y = np.stack(xlst,axis=0)\n",
    "        SUM = np.sum(y,axis=0)\n",
    "        x  =x.astype(int)\n",
    "\n",
    "        y = cls.table[x,SUM]\n",
    "        x[updater] = y[updater]\n",
    "\n",
    "        return x\n",
    "    \n",
    "#     @classmethod\n",
    "    def reverse(cls,xlst):\n",
    "        return None\n",
    "    \n",
    "class space__moore(space__shifted):\n",
    "    shifters = [\n",
    "      [  (0,1),(0,1),],\n",
    "      [  (1,1),(0,1),],\n",
    "      [  (1,0),(0,1),],\n",
    "      [  (1,-1),(0,1),],\n",
    "      [  (0,-1),(0,1),],\n",
    "      [  (-1,-1),(0,1),],\n",
    "      [  (-1,0),(0,1),],\n",
    "      [ (-1,1),(0,1),],\n",
    "    ]\n",
    "    \n",
    "import itertools\n",
    "def make__forwarder(space,dyn,targetAxis=(0,1),updater=None):\n",
    "    def forwarder(x,targetAxis=targetAxis,updater=updater):\n",
    "        nhs = space.get__neighbours(x,targetAxis)\n",
    "        x = dyn.forward(x.copy(),nhs,targetAxis,updater)\n",
    "        return x\n",
    "    return forwarder\n",
    "\n",
    "class Forwarder(object):\n",
    "    def __init__(self,space,dyn,targetAxis=(0,1),updater=None):\n",
    "        self.space= space\n",
    "        self.dyn = dyn\n",
    "        self.targetAxis = targetAxis\n",
    "        self.updater = updater\n",
    "    def run(self,x0,nIter,callback=None):\n",
    "        x0 = np.array(x0)\n",
    "        if np.ndim(x0)<3:\n",
    "            x0 = x0[:,:,None]\n",
    "            \n",
    "        for i in range(nIter):\n",
    "            if not i:\n",
    "                x = x0\n",
    "            else:\n",
    "                nhs = self.space.get__neighbours(x,\n",
    "                                                 self.targetAxis)\n",
    "                x = self.dyn.forward(\n",
    "                    x.copy(),nhs,\n",
    "                    self.targetAxis,\n",
    "                    self.updater)\n",
    "                \n",
    "            if callback is not None:\n",
    "                callback(i,x)\n",
    "\n",
    "        return x\n",
    "    def run__hist(self,x0,nIter):\n",
    "        hist = []\n",
    "        callback = lambda i,x: hist.append(x)\n",
    "        _ = self.run(x0,nIter,callback)\n",
    "        return hist\n",
    "    \n",
    "        \n",
    "        \n",
    "    \n",
    "def lookup__cast(forwarder, nodes):\n",
    "    if not nodes:\n",
    "        return nodes\n",
    "    assert type(nodes[0]) in (tuple,list),(type(nodes[0]),)\n",
    "#     for i in nIter:\n",
    "    res = forwarder( np.array(nodes),targetAxis=(1,2))\n",
    "    onodes = [x.tolist() for x in res]\n",
    "#     onodes = [totuple(x) for x in res]\n",
    "    return onodes\n",
    "#     lookup = [nodes.index(x.tolist()) for x in res]\n",
    "#     return lookup\n",
    "\n",
    "def make__nodes(*shape):\n",
    "    it = itertools.product(*[[0,1]]*np.product(shape))\n",
    "    it = list(it)\n",
    "    it = np.reshape(it,(-1,) + shape)\n",
    "    lst = [x.tolist() for x in it]\n",
    "    return lst\n",
    "\n",
    "def totuple(a):\n",
    "    try:\n",
    "        return tuple(totuple(i) for i in a)\n",
    "    except TypeError:\n",
    "        return a\n",
    "    \n",
    "def it__unique(seq): \n",
    "    uniq = []\n",
    "    for ele in seq:\n",
    "        if ele not in uniq:\n",
    "            uniq.append(ele)\n",
    "    return uniq\n",
    "    \n",
    "    \n",
    "\n",
    "dyn__lookup__bs.table = np.array([\n",
    "            [0,0,0,1,0,0,0,0,0,],\n",
    "            [0,0,1,1,0,0,0,0,0,],\n",
    "        ])\n",
    "\n",
    "# dyn__lookup__bs.table = np.random.randint(0,2,size=\n",
    "#                                          [2,9])\n"
   ]
  },
  {
   "cell_type": "code",
   "execution_count": 477,
   "metadata": {},
   "outputs": [
    {
     "name": "stdout",
     "output_type": "stream",
     "text": [
      "(20, 8, 7, 1)\n"
     ]
    }
   ],
   "source": []
  },
  {
   "cell_type": "code",
   "execution_count": 178,
   "metadata": {},
   "outputs": [
    {
     "data": {
      "text/plain": [
       "(0, 250)"
      ]
     },
     "execution_count": 178,
     "metadata": {},
     "output_type": "execute_result"
    },
    {
     "data": {
      "image/png": "[encoded data removed]",
      "text/plain": [
       "<Figure size 432x288 with 1 Axes>"
      ]
     },
     "metadata": {},
     "output_type": "display_data"
    }
   ],
   "source": [
    "import scipy.ndimage\n",
    "import collections\n",
    "\n",
    "\n",
    "def scan__glider(y, metric, axis=None,debug=0):\n",
    "    if axis is None:\n",
    "        axis = range(len(metric))\n",
    "    assert metric[0] >0 ,\"time must >0\"\n",
    "    y = np.stack(y)\n",
    "    metric = list(metric)\n",
    "    mt = metric[:]\n",
    "    mt[1:] = [0]*(len(mt)-1)\n",
    "    ms = metric[:]\n",
    "    ms[0]  = 0\n",
    "    yr1 = np.roll(y, mt,  axis=axis)\n",
    "    yr3 = np.roll(y, metric,axis = axis)\n",
    "    z = (y==yr3) & (y!=yr1) & np.roll(y!=yr1,metric,axis)\n",
    "    \n",
    "    if debug:\n",
    "        return dict(y=y,yr1=yr1,yr3=yr3,z=z)\n",
    "    components,ct = scipy.ndimage.measurements.label(z[-mt[0]:][:,:,:,-1],\n",
    "                                                     structure = np.ones((3,3,3))\n",
    "\n",
    "#                                                      structure=np.stack([\n",
    "#                                                          np.zeros((3,3)),\n",
    "#                                                          np.ones((3,3)),\n",
    "#                                                          np.zeros((3,3)),\n",
    "#                                                                  ]),\n",
    "                                                    )\n",
    "    # [0]\n",
    "\n",
    "    if not ct:\n",
    "    #     ct = []\n",
    "#         ct = []\n",
    "        ct = {0:0}\n",
    "    else:\n",
    "        ct = components[components>0].ravel()\n",
    "        ct = collections.Counter(ct)\n",
    "    ct =  max(ct.values()) \n",
    "#     ct = np.median(ct.values())\n",
    "    return ct\n",
    "# d = scan__glider(hist,(1,-3,2),debug=0)\n",
    "# d = scan__glider(hist,(4,-1,1),debug=0)\n",
    "\n",
    "def rule__toBSString(ruleTable):\n",
    "#     s = \"\"\n",
    "    s = []\n",
    "    for i,lst in enumerate(ruleTable):\n",
    "#         s += \"BS\"[i]\n",
    "        s += [\"BS\"[i]]\n",
    "        for j,v in enumerate(lst):\n",
    "            if v:\n",
    "                s+=[\"%d\"%j]\n",
    "    return ''.join(s)\n",
    "\n",
    "import pymisca.vis_util as pyvis\n",
    "plt = pyvis.plt\n",
    "%matplotlib inline\n",
    "\n",
    "pt__glider = [\n",
    "                [0,0,0,0,0,0,0],\n",
    "                [0,1,1,1,0,0,0],\n",
    "                [0,0,0,1,0,0,0],\n",
    "                [0,0,1,0,0,0,0],\n",
    "                [0,0,0,0,0,0,0],\n",
    "                [0,0,0,0,0,0,0],\n",
    "                [0,0,0,0,0,0,0],\n",
    "                [0,0,0,0,0,0,0],\n",
    "                ]\n",
    "\n",
    "def scan__hist(hist,):\n",
    "    it = itertools.product(range(1,1+4),range(-4,4 + 1),range(-4,4 + 1))\n",
    "    res =  [(scan__glider(hist,v),v) for v in it]\n",
    "    return res\n",
    "# pyvis.heatmap(d['z'][-1][:,:,0])\n",
    "# pyvis.heatmap(d['z'][-2][:,:,0])\n",
    "# pyvis.heatmap(d['z'][-3][:,:,0])\n",
    "\n",
    "fowarder = Forwarder(space__moore,dyn__lookup__bs())\n",
    "hist = fowarder.run__hist(pt__glider,20)\n",
    "res = scan__hist(hist)\n",
    "\n",
    "\n",
    "res = sorted(res)[::-1]\n",
    "plt.hist([x[0] for x in res],bins=np.arange(0,100)-0.5\n",
    ")\n",
    "\n",
    "ax = plt.gca()\n",
    "ax.set_ylim(0,250)"
   ]
  },
  {
   "cell_type": "code",
   "execution_count": 714,
   "metadata": {},
   "outputs": [
    {
     "data": {
      "text/plain": [
       "[(20, (4, -1, 1)),\n",
       " (8, (4, -1, 0)),\n",
       " (8, (3, -1, 0)),\n",
       " (7, (4, 0, 2)),\n",
       " (7, (4, -2, 0))]"
      ]
     },
     "execution_count": 714,
     "metadata": {},
     "output_type": "execute_result"
    }
   ],
   "source": [
    "res[:5]"
   ]
  },
  {
   "cell_type": "code",
   "execution_count": 675,
   "metadata": {},
   "outputs": [
    {
     "data": {
      "text/plain": [
       "(50, 15, 15, 1)"
      ]
     },
     "execution_count": 675,
     "metadata": {},
     "output_type": "execute_result"
    }
   ],
   "source": [
    "scan__glider(hist,metric=(4,4,0),debug=1)['z'].shape"
   ]
  },
  {
   "cell_type": "code",
   "execution_count": 255,
   "metadata": {},
   "outputs": [
    {
     "data": {
      "text/plain": [
       "'B01248S13578'"
      ]
     },
     "execution_count": 255,
     "metadata": {},
     "output_type": "execute_result"
    }
   ],
   "source": [
    "# x,y= seq[i]\n",
    "rule__toBSString([x,y])\n",
    "\n",
    "rule__toBSString([x[::-1],y[::-1]])\n"
   ]
  },
  {
   "cell_type": "code",
   "execution_count": 645,
   "metadata": {},
   "outputs": [],
   "source": [
    "i = i-1"
   ]
  },
  {
   "cell_type": "code",
   "execution_count": 312,
   "metadata": {},
   "outputs": [],
   "source": [
    "i =98"
   ]
  },
  {
   "cell_type": "code",
   "execution_count": 960,
   "metadata": {},
   "outputs": [],
   "source": [
    "# i = 105"
   ]
  },
  {
   "cell_type": "code",
   "execution_count": 1179,
   "metadata": {},
   "outputs": [
    {
     "name": "stdout",
     "output_type": "stream",
     "text": [
      "B01346\n",
      "S02\n",
      "B012347\n",
      "S01346\n",
      "300 B135678S014678\n",
      "DONE\n"
     ]
    },
    {
     "data": {
      "text/plain": [
       "Text(0.5,1.05,'B135678S014678')"
      ]
     },
     "execution_count": 1179,
     "metadata": {},
     "output_type": "execute_result"
    },
    {
     "data": {
      "image/png": "[encoded data removed]",
      "text/plain": [
       "<Figure size 1454.4x748.8 with 1 Axes>"
      ]
     },
     "metadata": {},
     "output_type": "display_data"
    }
   ],
   "source": [
    "fowarder = Forwarder(space__moore,dyn__lookup__bs())\n",
    "fowarder = Forwarder(space__moore,dyn__lookup__bs(BSString__toRule(\"B01346/S02 \")))\n",
    "# s = \"B0125/S0125\"\n",
    "s = \"B0123457/S346\"\n",
    "s = \"B012347/S01346\t\"\n",
    "fowarder = Forwarder(space__moore,dyn__lookup__bs(BSString__toRule(s)))\n",
    "\n",
    "i = i+1\n",
    "# i = 78\n",
    "fowarder = Forwarder(space__moore,dyn__lookup__bs(seq[i]))\n",
    "\n",
    "print i,rule__toBSString(fowarder.dyn.table)\n",
    "\n",
    "\n",
    "bins = bins=np.arange(0,100)-0.5\n",
    "out = []\n",
    "for _ in range(50):\n",
    "    hist = fowarder.run__hist(np.random.random(size=(15,15,1))>0.5,50)\n",
    "    res = np.histogram([x[0] for x in scan__hist(hist)],bins=bins)[0]\n",
    "    out += [res]\n",
    "\n",
    "print \"DONE\"\n",
    "\n",
    "name = rule__toBSString(fowarder.dyn.table)\n",
    "pyvis.heatmap(np.array(out),vlim=[0,100])\n",
    "fig = plt.gcf()\n",
    "plt.title(name)"
   ]
  },
  {
   "cell_type": "code",
   "execution_count": 1181,
   "metadata": {},
   "outputs": [],
   "source": [
    "np.save('gol/seq.npy',seq)"
   ]
  },
  {
   "cell_type": "code",
   "execution_count": 1177,
   "metadata": {},
   "outputs": [
    {
     "name": "stdout",
     "output_type": "stream",
     "text": [
      "B0S8\n"
     ]
    },
    {
     "data": {
      "image/png": "[encoded data removed]",
      "text/plain": [
       "<Figure size 576x216 with 1 Axes>"
      ]
     },
     "execution_count": 1177,
     "metadata": {},
     "output_type": "execute_result"
    }
   ],
   "source": [
    "fig\n",
    "print name\n",
    "fig.set_size_inches([8,3])\n",
    "with pyext.getPathStack(['gol'],force=1):\n",
    "    fig.savefig(name+'.png')\n",
    "fig"
   ]
  },
  {
   "cell_type": "code",
   "execution_count": null,
   "metadata": {},
   "outputs": [],
   "source": []
  },
  {
   "cell_type": "code",
   "execution_count": 848,
   "metadata": {},
   "outputs": [
    {
     "data": {
      "text/plain": [
       "<matplotlib.image.AxesImage at 0x7fa38d119450>"
      ]
     },
     "execution_count": 848,
     "metadata": {},
     "output_type": "execute_result"
    },
    {
     "data": {
      "image/png": "[encoded data removed]",
      "text/plain": [
       "<Figure size 1454.4x748.8 with 1 Axes>"
      ]
     },
     "metadata": {},
     "output_type": "display_data"
    }
   ],
   "source": [
    "pyvis.heatmap(np.array(out),vlim=[0,100])"
   ]
  },
  {
   "cell_type": "code",
   "execution_count": 773,
   "metadata": {},
   "outputs": [
    {
     "name": "stdout",
     "output_type": "stream",
     "text": [
      "B01346\n",
      "S02\n",
      "193 B01346S02\n"
     ]
    },
    {
     "data": {
      "text/plain": [
       "[(182, (3, 1, 4)),\n",
       " (170, (3, 4, -4)),\n",
       " (154, (3, -3, 4)),\n",
       " (141, (3, 1, -4)),\n",
       " (131, (3, 2, -4))]"
      ]
     },
     "execution_count": 773,
     "metadata": {},
     "output_type": "execute_result"
    },
    {
     "data": {
      "image/png": "[encoded data removed]",
      "text/plain": [
       "<Figure size 432x288 with 1 Axes>"
      ]
     },
     "metadata": {},
     "output_type": "display_data"
    }
   ],
   "source": [
    "fowarder = Forwarder(space__moore,dyn__lookup__bs())\n",
    "# i = i+1\n",
    "\n",
    "fowarder = Forwarder(space__moore,dyn__lookup__bs(seq[i]))\n",
    "fowarder = Forwarder(space__moore,dyn__lookup__bs(BSString__toRule(\"B01346/S02 \")))\n",
    "print i,rule__toBSString(fowarder.dyn.table)\n",
    "\n",
    "# fowarder = Forwarder(space__moore,seq[1])\n",
    "hist = fowarder.run__hist(np.random.random(size=(15,15,1))>0.5,50)\n",
    "res = scan__hist(hist)\n",
    "\n",
    "\n",
    "res = sorted(res)[::-1]\n",
    "plt.hist([x[0] for x in res],bins=np.arange(0,100)-0.5,\n",
    ")\n",
    "ax = plt.gca()\n",
    "ax.set_ylim(0,250)\n",
    "\n",
    "res[:5]"
   ]
  },
  {
   "cell_type": "code",
   "execution_count": 676,
   "metadata": {},
   "outputs": [
    {
     "name": "stdout",
     "output_type": "stream",
     "text": [
      "B01238\n",
      "S026\n"
     ]
    },
    {
     "data": {
      "text/plain": [
       "[[1, 1, 1, 1, 0, 0, 0, 0, 1], [1, 0, 1, 0, 0, 0, 1, 0, 0]]"
      ]
     },
     "execution_count": 676,
     "metadata": {},
     "output_type": "execute_result"
    }
   ],
   "source": [
    "s = \"B01238/S026\"\n",
    "import re\n",
    "def BSString__toRule(s):\n",
    "    res = [[0]*9 ,[0]*9 ]\n",
    "    for sp in re.findall(\"([BS]\\d*)\",s):\n",
    "    #     {\"B\":0,S}\n",
    "#         print sp\n",
    "        [ res[\"BS\".index(sp[0])].__setitem__(int(x),1) for x in sp[1:]]\n",
    "        \n",
    "    return res\n",
    "\n",
    "BSString__toRule(\"B01238/S026\")"
   ]
  },
  {
   "cell_type": "code",
   "execution_count": null,
   "metadata": {},
   "outputs": [],
   "source": [
    "B012356S01236"
   ]
  },
  {
   "cell_type": "code",
   "execution_count": null,
   "metadata": {},
   "outputs": [],
   "source": [
    "%%time\n",
    "# seq = np.random.randint(0,2,size=(262144,2,9))\n",
    "seq = make__nodes(2,9)\n",
    "np.random.seed(0)\n",
    "np.random.shuffle(seq)\n",
    "# np."
   ]
  },
  {
   "cell_type": "code",
   "execution_count": 217,
   "metadata": {},
   "outputs": [
    {
     "name": "stdout",
     "output_type": "stream",
     "text": [
      "B16S12578\n"
     ]
    }
   ],
   "source": [
    "print rule__toBSString(seq[65])"
   ]
  },
  {
   "cell_type": "code",
   "execution_count": 715,
   "metadata": {},
   "outputs": [
    {
     "data": {
      "text/plain": [
       "<matplotlib.image.AxesImage at 0x7fa38def2a90>"
      ]
     },
     "execution_count": 715,
     "metadata": {},
     "output_type": "execute_result"
    },
    {
     "data": {
      "image/png": "[encoded data removed]",
      "text/plain": [
       "<Figure size 244.8x244.8 with 1 Axes>"
      ]
     },
     "metadata": {},
     "output_type": "display_data"
    },
    {
     "data": {
      "image/png": "[encoded data removed]",
      "text/plain": [
       "<Figure size 244.8x244.8 with 1 Axes>"
      ]
     },
     "metadata": {},
     "output_type": "display_data"
    },
    {
     "data": {
      "image/png": "[encoded data removed]",
      "text/plain": [
       "<Figure size 244.8x244.8 with 1 Axes>"
      ]
     },
     "metadata": {},
     "output_type": "display_data"
    },
    {
     "data": {
      "image/png": "[encoded data removed]",
      "text/plain": [
       "<Figure size 244.8x244.8 with 1 Axes>"
      ]
     },
     "metadata": {},
     "output_type": "display_data"
    },
    {
     "data": {
      "image/png": "[encoded data removed]",
      "text/plain": [
       "<Figure size 244.8x244.8 with 1 Axes>"
      ]
     },
     "metadata": {},
     "output_type": "display_data"
    },
    {
     "data": {
      "image/png": "[encoded data removed]",
      "text/plain": [
       "<Figure size 244.8x244.8 with 1 Axes>"
      ]
     },
     "metadata": {},
     "output_type": "display_data"
    }
   ],
   "source": [
    "y=  hist\n",
    "pyvis.heatmap(hist[-1][:,:,0])\n",
    "d = scan__glider(hist,metric=res[0][1],debug=1)\n",
    "pyvis.heatmap((d['yr3'] )[-1,:,:,0])\n",
    "pyvis.heatmap((d['yr1'] )[-1,:,:,0])\n",
    "pyvis.heatmap((d['y'] == d['yr3'])[-1,:,:,0])\n",
    "pyvis.heatmap((d['y'] != d['yr1'])[-1,:,:,0])\n",
    "pyvis.heatmap((d['z'])[-1,:,:,0])\n",
    "# pyvis.heatmap(scan__glider(hist,metric=(4,4,0),debug=1)['z'][-1,:,:,0])\n",
    "# pyvis.heatmap(np.roll(hist,(4,4,0),axis=(0,1,2))[-1][:,:,0])\n",
    "# pyvis.heatmap(hist[-1][:,:,0])\n",
    "# pyvis.heatmap((np.roll(hist[-1],(4,2,1),axis=(0,1,2))==hist[-1])[:,:,0])\n",
    "# pyvis.heatmap(hist[-5][:,:,0])"
   ]
  },
  {
   "cell_type": "code",
   "execution_count": 588,
   "metadata": {},
   "outputs": [
    {
     "data": {
      "image/png": "[encoded data removed]",
      "text/plain": [
       "<Figure size 129.6x144 with 1 Axes>"
      ]
     },
     "metadata": {},
     "output_type": "display_data"
    },
    {
     "data": {
      "image/png": "[encoded data removed]",
      "text/plain": [
       "<Figure size 129.6x144 with 1 Axes>"
      ]
     },
     "metadata": {},
     "output_type": "display_data"
    },
    {
     "data": {
      "image/png": "[encoded data removed]",
      "text/plain": [
       "<Figure size 129.6x144 with 1 Axes>"
      ]
     },
     "metadata": {},
     "output_type": "display_data"
    }
   ],
   "source": [
    "yr1 = np.roll(y,(4,0,0),axis=(0,1,2))\n",
    "# yr2 = np.roll(y,(0,1,-1),axis=(0,1,2))\n",
    "yr3 = np.roll(y,(4,-1,1),axis=(0,1,2))\n",
    "z = (y==yr3) &~(yr1==y)\n",
    "pyvis.heatmap(z[-1][:,:,0],vlim=[0,1])\n",
    "pyvis.heatmap(z[-2][:,:,0],vlim=[0,1])\n",
    "pyvis.heatmap(z[-3][:,:,0],vlim=[0,1])\n",
    "\n",
    "\n",
    "components,ct = scipy.ndimage.measurements.label(z[-4:][:,:,:,-1],structure=np.ones((3,3,3)))\n",
    "# [0]\n",
    "\n",
    "if not ct:\n",
    "#     ct = []\n",
    "    ct = 0\n",
    "else:\n",
    "    ct = collections.Counter(components[components>0].ravel())\n",
    "    ct =  max(ct.values())\n",
    "# scipy.ndimage.find_objects(\n",
    "#     scipy.ndimage.measurements.label(z[-4:][:,:,:,-1],structure=np.ones((3,3,3)))[0])\n",
    "# pyvis.heatmap(z[-1][:,:,0])\n",
    "# z[-1][:,:,0]"
   ]
  },
  {
   "cell_type": "code",
   "execution_count": 444,
   "metadata": {},
   "outputs": [],
   "source": [
    "??scipy.ndimage.find_objects"
   ]
  },
  {
   "cell_type": "code",
   "execution_count": 445,
   "metadata": {},
   "outputs": [],
   "source": [
    "??scipy.ndimage.measurements.label"
   ]
  },
  {
   "cell_type": "code",
   "execution_count": null,
   "metadata": {},
   "outputs": [],
   "source": []
  },
  {
   "cell_type": "code",
   "execution_count": 437,
   "metadata": {},
   "outputs": [],
   "source": [
    "?scipy.ndimage.measurements.label"
   ]
  },
  {
   "cell_type": "code",
   "execution_count": 284,
   "metadata": {},
   "outputs": [
    {
     "name": "stdout",
     "output_type": "stream",
     "text": [
      "11250\n",
      "1\n"
     ]
    },
    {
     "data": {
      "text/plain": [
       "[('B3S23', [5, 73, 90, 0])]"
      ]
     },
     "execution_count": 284,
     "metadata": {},
     "output_type": "execute_result"
    }
   ],
   "source": [
    "def get_stats(table_bs,nodesMax = 8000, nForwardIter=5,onodesMax=400,):\n",
    "    class _dyn(dyn__lookup__bs):\n",
    "        table = np.array(table_bs)\n",
    "    _f = make__forwarder(space__moore, _dyn)    \n",
    "    def f(x,*a,**kw):\n",
    "        for i in range(nForwardIter):\n",
    "            x = _f(x,*a,**kw)\n",
    "        return x\n",
    "    nodes0= nodes = make__nodes(2,2)\n",
    "    \n",
    "    nIter = 4\n",
    "    res = []\n",
    "    callback = lambda i,x:res.append(len(x))\n",
    "    for i in range(nIter):\n",
    "        if not i:\n",
    "            nodes = nodes0\n",
    "        else:\n",
    "#             nodes = [sum(_x,[]) for _x in itertools.product(x, x)]\n",
    "#             nodes = [sum(_x,[]) for _x in itertools.product(x, nodes0)]\n",
    "            nodes = [sum(zip(_x[0],_x[1]),()) + sum(zip(_x[2],_x[3]),()) for _x in itertools.product(x, nodes0,nodes0,nodes0)]\n",
    "#             nodes = [sum(map(list,zip(_x[0],_x[1])),[]) + sum(map(list,zip(_x[2],_x[3])),[]) for _x in itertools.product(x, nodes0,nodes0,nodes0)]\n",
    "    #     print len(nodes)\n",
    "        if len(nodes) > nodesMax:\n",
    "            print len(nodes)\n",
    "            x = []\n",
    "        else:\n",
    "            onodes = lookup__cast(f,nodes)\n",
    "            x = it__unique(onodes)\n",
    "            if not i:\n",
    "                nodes0 = x\n",
    "            if len(x) > onodesMax:\n",
    "                x=[]\n",
    "        callback(i,x)\n",
    "    return res\n",
    "\n",
    "scanner = lambda tb: get_stats(tb,nodesMax=10000,nForwardIter=20)\n",
    "\n",
    "tb = dyn__lookup__bs.table\n",
    "res = [(tb,scanner(tb))]\n",
    "\n",
    "print len(res)\n",
    "map(lambda x:(rule__toBSString(x[0]),x[-1],), res)\n",
    "# ,res"
   ]
  },
  {
   "cell_type": "code",
   "execution_count": 285,
   "metadata": {},
   "outputs": [
    {
     "name": "stdout",
     "output_type": "stream",
     "text": [
      "10000\n",
      "1\n"
     ]
    },
    {
     "data": {
      "text/plain": [
       "[('B1347S023468', [10, 0, 0, 0])]"
      ]
     },
     "execution_count": 285,
     "metadata": {},
     "output_type": "execute_result"
    }
   ],
   "source": [
    "tb = seq[4597]\n",
    "# tb = dyn__lookup__bs.table\n",
    "res = [(tb,get_stats(tb,nodesMax=5000,nForwardIter=20))]\n",
    "\n",
    "print len(res)\n",
    "map(lambda x:(rule__toBSString(x[0]),x[-1],), res)\n",
    "# ,res"
   ]
  },
  {
   "cell_type": "code",
   "execution_count": 11,
   "metadata": {
    "scrolled": true
   },
   "outputs": [
    {
     "name": "stdout",
     "output_type": "stream",
     "text": [
      "CPU times: user 1.44 s, sys: 88 ms, total: 1.52 s\n",
      "Wall time: 1.51 s\n"
     ]
    }
   ],
   "source": [
    "%%time\n",
    "# seq = np.random.randint(0,2,size=(262144,2,9))\n",
    "seq = make__nodes(2,9)\n",
    "np.random.seed(0)\n",
    "np.random.shuffle(seq)\n",
    "# np."
   ]
  },
  {
   "cell_type": "code",
   "execution_count": 114,
   "metadata": {},
   "outputs": [],
   "source": [
    "out = {}"
   ]
  },
  {
   "cell_type": "code",
   "execution_count": 286,
   "metadata": {},
   "outputs": [
    {
     "name": "stdout",
     "output_type": "stream",
     "text": [
      "The line_profiler extension is already loaded. To reload it, use:\n",
      "  %reload_ext line_profiler\n",
      "15360\n",
      "20736\n",
      "193185\n",
      "192512\n",
      "CPU times: user 4.8 s, sys: 192 ms, total: 4.99 s\n",
      "Wall time: 4.71 s\n"
     ]
    }
   ],
   "source": [
    "%%time\n",
    "# for i in range()\n",
    "\n",
    "# np.random.seed(0)\n",
    "# seq = np.random.randint(0,2,size=(1000,2,9))\n",
    "# start = 0\n",
    "i0= 0\n",
    "\n",
    "i0= 100\n",
    "i0= 4500\n",
    "lst = range(i0,i0+10)\n",
    "def _worker(i,seq=seq):\n",
    "    return (i,seq[i],scanner(seq[i]))\n",
    "\n",
    "# def _worker(rule):\n",
    "#     return (rule, get_stats(rule,nodesMax=2000))\n",
    "%load_ext line_profiler\n",
    "%lprun -f get_stats rules = map(_worker,lst)\n",
    "# rules = pyext.mp_map(_worker,[i for i in lst], NCORE=1)"
   ]
  },
  {
   "cell_type": "code",
   "execution_count": 287,
   "metadata": {},
   "outputs": [
    {
     "data": {
      "text/plain": [
       "[(4500,\n",
       "  [[0, 0, 0, 1, 1, 0, 0, 1, 1], [1, 0, 0, 1, 1, 0, 1, 1, 1]],\n",
       "  [2, 6, 6, 6]),\n",
       " (4501,\n",
       "  [[0, 1, 1, 0, 0, 0, 0, 1, 0], [0, 0, 0, 1, 1, 1, 0, 0, 1]],\n",
       "  [4, 61, 136, 136]),\n",
       " (4502,\n",
       "  [[1, 0, 1, 0, 1, 1, 1, 1, 1], [1, 1, 1, 0, 0, 0, 0, 1, 0]],\n",
       "  [4, 98, 240, 0]),\n",
       " (4503,\n",
       "  [[1, 0, 0, 1, 1, 0, 0, 0, 0], [1, 0, 0, 0, 0, 1, 1, 0, 1]],\n",
       "  [3, 61, 201, 201]),\n",
       " (4504,\n",
       "  [[0, 1, 1, 0, 1, 1, 1, 0, 1], [1, 0, 0, 1, 0, 1, 1, 0, 1]],\n",
       "  [12, 0, 0, 0]),\n",
       " (4505,\n",
       "  [[0, 1, 1, 1, 0, 1, 0, 1, 0], [0, 1, 0, 0, 1, 0, 1, 1, 1]],\n",
       "  [8, 0, 0, 0]),\n",
       " (4506,\n",
       "  [[1, 1, 1, 1, 0, 1, 0, 0, 1], [1, 0, 0, 0, 0, 0, 0, 0, 1]],\n",
       "  [9, 265, 0, 0]),\n",
       " (4507,\n",
       "  [[1, 1, 0, 0, 1, 1, 0, 0, 0], [1, 1, 1, 0, 0, 1, 0, 0, 1]],\n",
       "  [7, 0, 0, 0]),\n",
       " (4508,\n",
       "  [[0, 1, 0, 1, 0, 1, 1, 1, 0], [0, 1, 0, 0, 1, 1, 0, 1, 1]],\n",
       "  [8, 376, 0, 0]),\n",
       " (4509,\n",
       "  [[1, 0, 1, 0, 1, 0, 1, 1, 1], [1, 0, 1, 1, 1, 0, 0, 1, 0]],\n",
       "  [2, 8, 11, 11])]"
      ]
     },
     "execution_count": 287,
     "metadata": {},
     "output_type": "execute_result"
    }
   ],
   "source": [
    "rules"
   ]
  },
  {
   "cell_type": "code",
   "execution_count": 289,
   "metadata": {
    "scrolled": true
   },
   "outputs": [
    {
     "name": "stdout",
     "output_type": "stream",
     "text": [
      "10\n",
      "(4500, 'B3478S034678', [2, 6, 6, 6])\n",
      "(4501, 'B127S3458', [4, 61, 136, 136])\n",
      "(4502, 'B0245678S0127', [4, 98, 240, 0])\n",
      "(4503, 'B034S0568', [3, 61, 201, 201])\n",
      "(4504, 'B124568S03568', [12, 0, 0, 0])\n",
      "(4505, 'B12357S14678', [8, 0, 0, 0])\n",
      "(4506, 'B012358S08', [9, 265, 0, 0])\n",
      "(4507, 'B0145S01258', [7, 0, 0, 0])\n",
      "(4508, 'B13567S14578', [8, 376, 0, 0])\n",
      "(4509, 'B024678S02347', [2, 8, 11, 11])\n"
     ]
    }
   ],
   "source": [
    "# rules = pyext.mp_map(_worker,[seq[i] for i in lst], NCORE=1)\n",
    "# rules = [(seq[i],get_stats(seq[i],nodesMax=2000)) for i in lst]\n",
    "def sel(x):\n",
    "    res = x[-1]\n",
    "#     res = get_stats(rule, nodesMax=2000)\n",
    "    yes = res[1] < 300 & res[1]\n",
    "#     yes = (res[1]>10) & (res[0]<=10) & (res[3] > 0)\n",
    "#     return yes\n",
    "    return 1\n",
    "\n",
    "\n",
    "res = filter(sel,rules)\n",
    "print len(res)\n",
    "out[i0] = res\n",
    "\n",
    "res = filter(sel,rules)\n",
    "tb = dyn__lookup__bs.table\n",
    "pyext.printlines(\n",
    "    map(lambda x:(x[0],rule__toBSString(x[1]),x[-1]), res)\n",
    ")"
   ]
  },
  {
   "cell_type": "code",
   "execution_count": 226,
   "metadata": {},
   "outputs": [
    {
     "name": "stdout",
     "output_type": "stream",
     "text": [
      "1\n"
     ]
    },
    {
     "data": {
      "text/plain": [
       "[('B1347S023468', [4, 25, 22, 228])]"
      ]
     },
     "execution_count": 226,
     "metadata": {},
     "output_type": "execute_result"
    }
   ],
   "source": [
    "tb = dyn__lookup__bs.table\n",
    "# tb = seq[4597]\n",
    "res = [(tb,get_stats(tb,nodesMax=2000,nForwardIter=20))]\n",
    "\n",
    "print len(res)\n",
    "map(lambda x:(rule__toBSString(x[0]),x[-1],), res)\n",
    "# ,res"
   ]
  },
  {
   "cell_type": "code",
   "execution_count": 187,
   "metadata": {
    "scrolled": false
   },
   "outputs": [
    {
     "ename": "TypeError",
     "evalue": "'int' object is not iterable",
     "output_type": "error",
     "traceback": [
      "\u001b[0;31m---------------------------------------------------------------------------\u001b[0m",
      "\u001b[0;31mTypeError\u001b[0m                                 Traceback (most recent call last)",
      "\u001b[0;32m<ipython-input-187-1b55560918ff>\u001b[0m in \u001b[0;36m<module>\u001b[0;34m()\u001b[0m\n\u001b[0;32m----> 1\u001b[0;31m \u001b[0mres\u001b[0m \u001b[0;34m=\u001b[0m \u001b[0msum\u001b[0m\u001b[0;34m(\u001b[0m\u001b[0;34m[\u001b[0m\u001b[0;34m[\u001b[0m\u001b[0;34m[\u001b[0m\u001b[0m_v\u001b[0m\u001b[0;34m[\u001b[0m\u001b[0;34m-\u001b[0m\u001b[0;36m1\u001b[0m\u001b[0;34m]\u001b[0m\u001b[0;34m,\u001b[0m\u001b[0mrule__toBSString\u001b[0m\u001b[0;34m(\u001b[0m\u001b[0m_v\u001b[0m\u001b[0;34m[\u001b[0m\u001b[0;36m0\u001b[0m\u001b[0;34m]\u001b[0m\u001b[0;34m)\u001b[0m\u001b[0;34m]\u001b[0m \u001b[0;32mfor\u001b[0m \u001b[0m_v\u001b[0m \u001b[0;32min\u001b[0m \u001b[0mv\u001b[0m\u001b[0;34m]\u001b[0m \u001b[0;32mfor\u001b[0m \u001b[0mk\u001b[0m\u001b[0;34m,\u001b[0m\u001b[0mv\u001b[0m \u001b[0;32min\u001b[0m \u001b[0mout\u001b[0m\u001b[0;34m.\u001b[0m\u001b[0mitems\u001b[0m\u001b[0;34m(\u001b[0m\u001b[0;34m)\u001b[0m\u001b[0;34m]\u001b[0m\u001b[0;34m,\u001b[0m\u001b[0;34m[\u001b[0m\u001b[0;34m]\u001b[0m\u001b[0;34m)\u001b[0m\u001b[0;34m\u001b[0m\u001b[0m\n\u001b[0m\u001b[1;32m      2\u001b[0m \u001b[0msorted\u001b[0m\u001b[0;34m(\u001b[0m\u001b[0mres\u001b[0m\u001b[0;34m,\u001b[0m\u001b[0mkey\u001b[0m\u001b[0;34m=\u001b[0m\u001b[0;32mlambda\u001b[0m \u001b[0mx\u001b[0m\u001b[0;34m:\u001b[0m\u001b[0mx\u001b[0m\u001b[0;34m[\u001b[0m\u001b[0;36m0\u001b[0m\u001b[0;34m]\u001b[0m\u001b[0;34m[\u001b[0m\u001b[0;36m1\u001b[0m\u001b[0;34m]\u001b[0m\u001b[0;34m)\u001b[0m\u001b[0;34m\u001b[0m\u001b[0m\n",
      "\u001b[0;32m<ipython-input-57-7eff6fc9eadb>\u001b[0m in \u001b[0;36mrule__toBSString\u001b[0;34m(ruleTable)\u001b[0m\n\u001b[1;32m      2\u001b[0m \u001b[0;31m#     s = \"\"\u001b[0m\u001b[0;34m\u001b[0m\u001b[0;34m\u001b[0m\u001b[0m\n\u001b[1;32m      3\u001b[0m     \u001b[0ms\u001b[0m \u001b[0;34m=\u001b[0m \u001b[0;34m[\u001b[0m\u001b[0;34m]\u001b[0m\u001b[0;34m\u001b[0m\u001b[0m\n\u001b[0;32m----> 4\u001b[0;31m     \u001b[0;32mfor\u001b[0m \u001b[0mi\u001b[0m\u001b[0;34m,\u001b[0m\u001b[0mlst\u001b[0m \u001b[0;32min\u001b[0m \u001b[0menumerate\u001b[0m\u001b[0;34m(\u001b[0m\u001b[0mruleTable\u001b[0m\u001b[0;34m)\u001b[0m\u001b[0;34m:\u001b[0m\u001b[0;34m\u001b[0m\u001b[0m\n\u001b[0m\u001b[1;32m      5\u001b[0m \u001b[0;31m#         s += \"BS\"[i]\u001b[0m\u001b[0;34m\u001b[0m\u001b[0;34m\u001b[0m\u001b[0m\n\u001b[1;32m      6\u001b[0m         \u001b[0ms\u001b[0m \u001b[0;34m+=\u001b[0m \u001b[0;34m[\u001b[0m\u001b[0;34m\"BS\"\u001b[0m\u001b[0;34m[\u001b[0m\u001b[0mi\u001b[0m\u001b[0;34m]\u001b[0m\u001b[0;34m]\u001b[0m\u001b[0;34m\u001b[0m\u001b[0m\n",
      "\u001b[0;31mTypeError\u001b[0m: 'int' object is not iterable"
     ]
    }
   ],
   "source": [
    "res = sum([[[_v[-1],rule__toBSString(_v[0])] for _v in v] for k,v in out.items()],[])\n",
    "sorted(res,key=lambda x:x[0][1])"
   ]
  },
  {
   "cell_type": "code",
   "execution_count": 194,
   "metadata": {},
   "outputs": [
    {
     "data": {
      "text/plain": [
       "([16, 103, 802, 0], [19, 100, 776, 0])"
      ]
     },
     "execution_count": 194,
     "metadata": {},
     "output_type": "execute_result"
    }
   ],
   "source": [
    "get_stats(seq[4548],),get_stats(seq[4505],),"
   ]
  },
  {
   "cell_type": "code",
   "execution_count": 120,
   "metadata": {},
   "outputs": [
    {
     "name": "stdout",
     "output_type": "stream",
     "text": [
      "('B013457S2346', [10, 28, 89, 0])\n"
     ]
    }
   ],
   "source": [
    "# res = filter(sel,rules)\n",
    "res = out[400]\n",
    "\n",
    "# tb = dyn__lookup__bs.table\n",
    "pyext.printlines(\n",
    "    map(lambda x:(rule__toBSString(x[0]),x[-1]), res)\n",
    ")\n",
    "# # res = [(tb,get_stats(tb))]\n",
    "# print len(res)\n",
    "# zip(map(lambda x:rule__toBSString(x[0]), res),res)\n",
    "# map(rule__toBSString,res)\n",
    "    "
   ]
  },
  {
   "cell_type": "code",
   "execution_count": 57,
   "metadata": {},
   "outputs": [
    {
     "data": {
      "text/plain": [
       "'B012457S01346'"
      ]
     },
     "execution_count": 57,
     "metadata": {},
     "output_type": "execute_result"
    }
   ],
   "source": [
    "def rule__toBSString(ruleTable):\n",
    "#     s = \"\"\n",
    "    s = []\n",
    "    for i,lst in enumerate(ruleTable):\n",
    "#         s += \"BS\"[i]\n",
    "        s += [\"BS\"[i]]\n",
    "        for j,v in enumerate(lst):\n",
    "            if v:\n",
    "                s+=[\"%d\"%j]\n",
    "    return ''.join(s)\n",
    "rule__toBSString(res[0])"
   ]
  },
  {
   "cell_type": "code",
   "execution_count": 53,
   "metadata": {},
   "outputs": [
    {
     "data": {
      "text/plain": [
       "1"
      ]
     },
     "execution_count": 53,
     "metadata": {},
     "output_type": "execute_result"
    }
   ],
   "source": [
    "len(res)"
   ]
  },
  {
   "cell_type": "code",
   "execution_count": 17,
   "metadata": {},
   "outputs": [
    {
     "name": "stdout",
     "output_type": "stream",
     "text": [
      "CPU times: user 8 ms, sys: 0 ns, total: 8 ms\n",
      "Wall time: 5.03 ms\n",
      "CPU times: user 4 ms, sys: 0 ns, total: 4 ms\n",
      "Wall time: 5.37 ms\n",
      "(270,)\n",
      "CPU times: user 1.06 s, sys: 136 ms, total: 1.2 s\n",
      "Wall time: 1.2 s\n",
      "CPU times: user 2min 5s, sys: 120 ms, total: 2min 5s\n",
      "Wall time: 2min 5s\n",
      "(20482,)\n"
     ]
    }
   ],
   "source": [
    "nodes = [sum(_x,[]) for _x in itertools.product(x,x)]\n",
    "%time onodes = lookup__cast(f,nodes)\n",
    "%time x = it__unique(onodes)\n",
    "print (len(x),)\n",
    "\n",
    "\n",
    "nodes = [sum(_x,[]) for _x in itertools.product(x,x)]\n",
    "%time onodes = lookup__cast(f,nodes)\n",
    "%time x = it__unique(onodes)\n",
    "print (len(x),)"
   ]
  },
  {
   "cell_type": "code",
   "execution_count": 238,
   "metadata": {},
   "outputs": [
    {
     "data": {
      "text/plain": [
       "[[[0, 0, 0], [0, 0, 0], [0, 0, 0], [0, 0, 0]],\n",
       " [[0, 0, 0], [0, 0, 0], [0, 0, 0], [0, 0, 1]],\n",
       " [[0, 0, 0], [0, 0, 0], [0, 0, 0], [0, 1, 0]]]"
      ]
     },
     "execution_count": 238,
     "metadata": {},
     "output_type": "execute_result"
    }
   ],
   "source": [
    "map(nodes.__getitem__,list(set(tbl))[:3])"
   ]
  },
  {
   "cell_type": "code",
   "execution_count": null,
   "metadata": {},
   "outputs": [],
   "source": []
  },
  {
   "cell_type": "code",
   "execution_count": 41,
   "metadata": {},
   "outputs": [],
   "source": [
    "?np.maximum"
   ]
  }
 ],
 "metadata": {
  "kernelspec": {
   "display_name": "Python 2",
   "language": "python",
   "name": "python2"
  },
  "language_info": {
   "codemirror_mode": {
    "name": "ipython",
    "version": 2
   },
   "file_extension": ".py",
   "mimetype": "text/x-python",
   "name": "python",
   "nbconvert_exporter": "python",
   "pygments_lexer": "ipython2",
   "version": "2.7.15rc1"
  }
 },
 "nbformat": 4,
 "nbformat_minor": 2
}
